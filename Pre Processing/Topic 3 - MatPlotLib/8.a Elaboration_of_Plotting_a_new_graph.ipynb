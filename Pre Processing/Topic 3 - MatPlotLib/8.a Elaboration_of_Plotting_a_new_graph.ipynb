{
 "cells": [
  {
   "cell_type": "code",
   "execution_count": 9,
   "metadata": {},
   "outputs": [],
   "source": [
    "import numpy as np"
   ]
  },
  {
   "cell_type": "code",
   "execution_count": 75,
   "metadata": {},
   "outputs": [
    {
     "data": {
      "text/plain": [
       "array([[ 2.53328295e-01,  1.67238297e+00],\n",
       "       [ 6.94469853e-01,  6.73731659e-01],\n",
       "       [ 6.34281154e-01,  9.64589345e-01],\n",
       "       [-1.36249148e+00,  1.52675092e-01],\n",
       "       [ 1.06717412e+00, -6.70146178e-01],\n",
       "       [ 3.07718814e-03, -4.58828246e-01],\n",
       "       [ 1.04481898e+00, -2.42709858e-01],\n",
       "       [ 1.13426076e+00,  2.33206202e-02],\n",
       "       [ 1.82372429e+00,  1.04034431e+00],\n",
       "       [-1.03699084e+00,  1.41341208e-01],\n",
       "       [ 8.01757358e-01,  1.05366766e+00],\n",
       "       [ 2.33924882e-01,  1.19396722e+00],\n",
       "       [-3.15378605e-01, -8.82088211e-01],\n",
       "       [ 1.85078055e-01, -9.36584214e-03],\n",
       "       [ 1.36071759e+00,  9.61855621e-01],\n",
       "       [ 1.34986183e+00, -1.12558146e+00],\n",
       "       [ 1.70684738e-01,  1.35989077e-01],\n",
       "       [ 8.61719882e-01, -2.96973811e-02],\n",
       "       [-7.69645892e-01,  1.51497341e+00],\n",
       "       [-8.78990213e-01,  3.07462182e-01],\n",
       "       [ 7.82246650e-01, -7.27921961e-01],\n",
       "       [-5.47189386e-01, -2.88387257e-01],\n",
       "       [-1.71032167e+00, -6.54118675e-01],\n",
       "       [-1.61421487e+00, -4.29873264e-01],\n",
       "       [ 7.25758494e-01, -1.98903794e+00],\n",
       "       [ 5.52210175e-01,  1.05235131e+00],\n",
       "       [-8.94515839e-01,  3.95135522e-01],\n",
       "       [-3.47317977e-01,  5.28715871e-02],\n",
       "       [-1.42943856e+00, -1.58113244e+00],\n",
       "       [-5.95477335e-02,  2.95461991e-01],\n",
       "       [ 6.31365975e-01,  6.95680207e-01],\n",
       "       [ 4.92785983e-02,  2.21367418e+00],\n",
       "       [-2.93005112e-01, -7.07653324e-01],\n",
       "       [ 3.23784009e-02, -1.76349193e-01],\n",
       "       [-1.81911625e+00,  3.84289343e-01],\n",
       "       [ 1.67239030e+00,  5.13743239e-01],\n",
       "       [-7.66174263e-01,  8.15883775e-01],\n",
       "       [-5.15813273e-02,  6.35752468e-01],\n",
       "       [ 4.02291828e-01,  3.96285671e-01],\n",
       "       [ 4.60147418e-01, -1.44028096e+00],\n",
       "       [ 4.94471111e-01, -9.98551712e-01],\n",
       "       [ 1.08928553e+00,  4.94201314e-01],\n",
       "       [ 6.90637087e-01, -1.23379128e-02],\n",
       "       [ 3.29256768e-01,  2.30308328e-01],\n",
       "       [-4.49191015e-02, -1.29580680e-01],\n",
       "       [ 4.78608102e-01,  3.79540730e-01],\n",
       "       [-9.44430689e-01, -6.27203932e-01],\n",
       "       [ 1.21716931e+00,  2.69691810e-01],\n",
       "       [ 4.21237119e-01, -1.19758372e+00],\n",
       "       [ 8.83308681e-01,  6.45090951e-01],\n",
       "       [ 1.13669439e+00, -5.79757471e-01],\n",
       "       [ 1.21608265e+00, -5.69005268e-01],\n",
       "       [-2.02198670e-01, -6.62989419e-01],\n",
       "       [-1.24413586e-02, -3.83780817e-01],\n",
       "       [-1.63267705e+00, -4.35253319e-01],\n",
       "       [-5.23532373e-01,  6.96580746e-01],\n",
       "       [ 1.18291292e-01,  5.31495459e-01],\n",
       "       [ 3.35805250e-01,  1.49092401e-01],\n",
       "       [ 9.06605474e-02,  9.97329669e-02],\n",
       "       [-5.45233501e-01,  1.15864205e+00],\n",
       "       [ 7.02730607e-01, -1.32344531e+00],\n",
       "       [ 1.32051074e+00, -8.06096111e-01],\n",
       "       [ 3.58725645e-01,  1.29579349e+00],\n",
       "       [ 4.10024736e-01, -5.62229038e-01],\n",
       "       [-2.63875319e-01, -2.66628695e-02],\n",
       "       [ 2.12350979e-01,  5.87083509e-01],\n",
       "       [-1.37758710e+00, -1.47757805e+00],\n",
       "       [-1.09697829e+00, -3.00472994e-01],\n",
       "       [-1.09670896e+00, -4.07746476e-01],\n",
       "       [ 1.64900661e+00,  1.21866203e-01],\n",
       "       [-2.00101720e+00, -8.07619750e-03],\n",
       "       [-4.68303998e-01, -2.26259296e-03],\n",
       "       [ 9.77817194e-01, -1.98325498e-01],\n",
       "       [ 1.10130297e+00,  2.58658518e-01],\n",
       "       [ 8.04173358e-02,  1.95068114e+00],\n",
       "       [ 2.15817372e+00, -1.05351310e+00],\n",
       "       [ 8.67047170e-01, -5.96265462e-01],\n",
       "       [-2.91676146e-01,  6.51274807e-01],\n",
       "       [ 8.84316518e-02, -1.13675282e+00],\n",
       "       [-8.42458825e-01,  9.98580302e-02],\n",
       "       [ 9.82408104e-01,  1.23756063e+00],\n",
       "       [ 2.20852928e-02,  6.50662629e-01],\n",
       "       [ 1.42200833e+00,  1.68821117e-01],\n",
       "       [-1.27852832e+00, -1.42621392e+00],\n",
       "       [ 1.61727916e+00,  2.84016442e-01],\n",
       "       [-1.39182365e+00,  2.77192774e-01],\n",
       "       [-8.57740293e-01,  5.07147982e-01],\n",
       "       [-1.07192494e+00, -1.91363971e-01],\n",
       "       [ 1.03422027e+00, -5.94098970e-01],\n",
       "       [-1.28071528e+00,  9.51834960e-01],\n",
       "       [-2.01149014e+00,  2.28097946e+00],\n",
       "       [ 1.03017810e+00,  1.33646636e+00],\n",
       "       [-1.32324692e+00, -2.33196577e-01],\n",
       "       [ 1.33562706e+00,  1.92472108e+00],\n",
       "       [ 7.34497162e-01, -6.73391440e-01],\n",
       "       [-5.54236838e-01, -1.78641607e+00],\n",
       "       [-7.21481391e-01,  7.79246860e-02],\n",
       "       [ 2.45122008e-01,  1.45129602e+00],\n",
       "       [ 6.51754507e-01,  1.04326397e+00],\n",
       "       [ 1.36208913e+00,  6.03960755e-01],\n",
       "       [ 5.57937524e-01,  3.11395967e-01],\n",
       "       [-5.28956151e-01,  6.83472393e-01],\n",
       "       [ 2.25580231e+00,  1.53719845e+00],\n",
       "       [ 7.19231794e-01,  3.85262131e-01],\n",
       "       [-1.32694682e+00,  1.01395827e+00],\n",
       "       [-1.09392792e-01,  5.27481133e-02],\n",
       "       [-1.49658295e+00,  8.99286277e-01],\n",
       "       [ 5.64230711e-01, -1.26317817e+00],\n",
       "       [-7.67779225e-01, -1.00411675e+00],\n",
       "       [-1.02713175e+00,  1.37078153e+00],\n",
       "       [-5.54813938e-02, -1.68099272e+00],\n",
       "       [-8.36531687e-01, -2.74659025e-02],\n",
       "       [ 5.02176474e-01, -1.83802482e+00],\n",
       "       [-2.90692975e-01,  4.25379510e-02],\n",
       "       [-9.41550292e-01, -2.72160178e-01],\n",
       "       [-1.02504638e+00,  7.39270430e-01],\n",
       "       [-8.69055085e-02,  9.45351721e-01],\n",
       "       [ 6.72419022e-01,  1.66666475e+00],\n",
       "       [-4.87165886e-01,  3.17200722e-01],\n",
       "       [-8.40796647e-01,  8.62343842e-01],\n",
       "       [-6.16194255e-01,  7.59578434e-01],\n",
       "       [ 2.71541100e-01, -2.01025325e-02],\n",
       "       [-1.10142071e+00,  9.15347852e-01],\n",
       "       [-1.56899609e+00,  1.31075285e+00],\n",
       "       [ 8.94868630e-01,  8.94840678e-01],\n",
       "       [ 9.99687943e-02, -4.87957567e-01],\n",
       "       [-2.10704835e-01,  1.94150186e+00],\n",
       "       [-3.80844575e-03, -9.27684980e-01],\n",
       "       [ 1.25120381e+00,  2.31614274e-01],\n",
       "       [-1.11868855e+00,  5.37101673e-01],\n",
       "       [ 8.69432483e-01,  4.14813563e-01],\n",
       "       [ 2.55524168e-01,  1.56684519e+00],\n",
       "       [ 5.61375159e-01,  6.15432140e-01],\n",
       "       [ 6.80232776e-01,  1.45051893e+00],\n",
       "       [ 1.09454636e+00,  2.64219057e-01],\n",
       "       [ 8.44349410e-01,  4.06441195e-01],\n",
       "       [-5.66264453e-01,  7.54466241e-01],\n",
       "       [-3.02578842e-01, -6.89997170e-01],\n",
       "       [-2.45387038e+00, -2.70593210e+00],\n",
       "       [-1.20336824e+00, -3.31861611e-01],\n",
       "       [-1.90778676e-01,  9.92839322e-01],\n",
       "       [-6.34112300e-01,  1.00467387e+00],\n",
       "       [-4.09714682e-01,  6.50792720e-01],\n",
       "       [ 1.69040835e-02, -4.41634856e-01],\n",
       "       [-3.28697632e-01, -1.86127721e+00],\n",
       "       [-2.20763334e-01,  1.19751517e-01],\n",
       "       [ 1.15158133e+00, -1.23690463e+00],\n",
       "       [ 1.16644492e+00, -1.67343362e+00],\n",
       "       [-1.94478871e-01, -9.17185410e-01],\n",
       "       [ 4.06743022e-01,  5.77582464e-01],\n",
       "       [-8.12755417e-01, -3.09352256e-01],\n",
       "       [ 1.59583807e-01, -9.28356708e-01],\n",
       "       [ 3.99396021e-02,  5.18733089e-01],\n",
       "       [-1.11210051e+00,  3.69996342e-01],\n",
       "       [ 1.24282315e+00,  2.87787108e-01],\n",
       "       [-1.10970658e+00, -7.28922331e-01],\n",
       "       [-6.65183915e-01,  3.18518833e+00],\n",
       "       [ 1.08304468e+00,  9.95118681e-01],\n",
       "       [-5.99057153e-01, -4.43841133e-01],\n",
       "       [ 5.34400298e-01, -8.15352464e-02],\n",
       "       [-1.11163033e+00,  4.58963708e-01],\n",
       "       [ 4.87477304e-01,  2.57884206e-01],\n",
       "       [-7.69745297e-01, -7.64438405e-01],\n",
       "       [ 7.13430313e-02, -1.04823606e+00],\n",
       "       [ 8.56109371e-01,  8.04593115e-01],\n",
       "       [ 1.26225412e+00, -5.16824700e-01],\n",
       "       [-1.17937789e-02, -5.18757430e-01],\n",
       "       [ 6.07054060e-01,  9.48868126e-02],\n",
       "       [-9.78263810e-01,  2.83664290e+00],\n",
       "       [ 9.69165070e-01, -5.55060682e-01],\n",
       "       [-4.35502332e-01,  8.93991208e-01],\n",
       "       [ 3.30160937e+00, -3.86432052e-01],\n",
       "       [-4.07698607e-01,  7.48441533e-01],\n",
       "       [-1.68060627e+00, -3.46147843e-02],\n",
       "       [ 6.38275180e-01,  1.26759712e+00],\n",
       "       [ 1.38835486e+00,  8.69823474e-01],\n",
       "       [ 6.75037280e-01, -2.00670235e+00],\n",
       "       [-1.30261392e-01, -1.83322212e+00],\n",
       "       [ 4.70721383e-01,  1.91925042e+00],\n",
       "       [-7.08683818e-01, -6.14394572e-01],\n",
       "       [ 1.19777984e-02,  7.60444143e-01],\n",
       "       [-1.59989876e+00,  2.85609966e+00],\n",
       "       [-7.43005979e-01,  1.09310629e+00],\n",
       "       [ 1.22187313e+00,  5.62904116e-01],\n",
       "       [-1.01210369e+00, -1.48092635e-01],\n",
       "       [-5.84452258e-01, -5.52021674e-01],\n",
       "       [ 4.07614076e-01, -4.74499637e-01],\n",
       "       [ 1.23007645e+00,  4.87733933e-01],\n",
       "       [-1.04994861e+00,  7.08832255e-01],\n",
       "       [-5.54587374e-02,  2.83393830e-01],\n",
       "       [-4.47357553e-01,  4.91481665e-01],\n",
       "       [ 6.44230931e-01, -3.36392285e-01],\n",
       "       [ 2.02422945e-01, -1.07436842e+00],\n",
       "       [ 4.16806371e-01, -9.84756824e-01],\n",
       "       [ 6.12255358e-01, -6.70060927e-02],\n",
       "       [-1.00052818e-01, -3.85213508e-02],\n",
       "       [-7.37908379e-01, -3.39305770e-01],\n",
       "       [-1.33554056e+00,  2.82380128e-01],\n",
       "       [ 2.39174097e-01,  5.89798220e-01],\n",
       "       [ 1.64880810e-01, -1.15535597e+00]])"
      ]
     },
     "execution_count": 75,
     "metadata": {},
     "output_type": "execute_result"
    }
   ],
   "source": [
    "X_xor = np.random.randn(200, 2)\n",
    "X_xor                                   #Take x data."
   ]
  },
  {
   "cell_type": "code",
   "execution_count": 76,
   "metadata": {},
   "outputs": [
    {
     "data": {
      "text/plain": [
       "array([ 2.53328295e-01,  6.94469853e-01,  6.34281154e-01, -1.36249148e+00,\n",
       "        1.06717412e+00,  3.07718814e-03,  1.04481898e+00,  1.13426076e+00,\n",
       "        1.82372429e+00, -1.03699084e+00,  8.01757358e-01,  2.33924882e-01,\n",
       "       -3.15378605e-01,  1.85078055e-01,  1.36071759e+00,  1.34986183e+00,\n",
       "        1.70684738e-01,  8.61719882e-01, -7.69645892e-01, -8.78990213e-01,\n",
       "        7.82246650e-01, -5.47189386e-01, -1.71032167e+00, -1.61421487e+00,\n",
       "        7.25758494e-01,  5.52210175e-01, -8.94515839e-01, -3.47317977e-01,\n",
       "       -1.42943856e+00, -5.95477335e-02,  6.31365975e-01,  4.92785983e-02,\n",
       "       -2.93005112e-01,  3.23784009e-02, -1.81911625e+00,  1.67239030e+00,\n",
       "       -7.66174263e-01, -5.15813273e-02,  4.02291828e-01,  4.60147418e-01,\n",
       "        4.94471111e-01,  1.08928553e+00,  6.90637087e-01,  3.29256768e-01,\n",
       "       -4.49191015e-02,  4.78608102e-01, -9.44430689e-01,  1.21716931e+00,\n",
       "        4.21237119e-01,  8.83308681e-01,  1.13669439e+00,  1.21608265e+00,\n",
       "       -2.02198670e-01, -1.24413586e-02, -1.63267705e+00, -5.23532373e-01,\n",
       "        1.18291292e-01,  3.35805250e-01,  9.06605474e-02, -5.45233501e-01,\n",
       "        7.02730607e-01,  1.32051074e+00,  3.58725645e-01,  4.10024736e-01,\n",
       "       -2.63875319e-01,  2.12350979e-01, -1.37758710e+00, -1.09697829e+00,\n",
       "       -1.09670896e+00,  1.64900661e+00, -2.00101720e+00, -4.68303998e-01,\n",
       "        9.77817194e-01,  1.10130297e+00,  8.04173358e-02,  2.15817372e+00,\n",
       "        8.67047170e-01, -2.91676146e-01,  8.84316518e-02, -8.42458825e-01,\n",
       "        9.82408104e-01,  2.20852928e-02,  1.42200833e+00, -1.27852832e+00,\n",
       "        1.61727916e+00, -1.39182365e+00, -8.57740293e-01, -1.07192494e+00,\n",
       "        1.03422027e+00, -1.28071528e+00, -2.01149014e+00,  1.03017810e+00,\n",
       "       -1.32324692e+00,  1.33562706e+00,  7.34497162e-01, -5.54236838e-01,\n",
       "       -7.21481391e-01,  2.45122008e-01,  6.51754507e-01,  1.36208913e+00,\n",
       "        5.57937524e-01, -5.28956151e-01,  2.25580231e+00,  7.19231794e-01,\n",
       "       -1.32694682e+00, -1.09392792e-01, -1.49658295e+00,  5.64230711e-01,\n",
       "       -7.67779225e-01, -1.02713175e+00, -5.54813938e-02, -8.36531687e-01,\n",
       "        5.02176474e-01, -2.90692975e-01, -9.41550292e-01, -1.02504638e+00,\n",
       "       -8.69055085e-02,  6.72419022e-01, -4.87165886e-01, -8.40796647e-01,\n",
       "       -6.16194255e-01,  2.71541100e-01, -1.10142071e+00, -1.56899609e+00,\n",
       "        8.94868630e-01,  9.99687943e-02, -2.10704835e-01, -3.80844575e-03,\n",
       "        1.25120381e+00, -1.11868855e+00,  8.69432483e-01,  2.55524168e-01,\n",
       "        5.61375159e-01,  6.80232776e-01,  1.09454636e+00,  8.44349410e-01,\n",
       "       -5.66264453e-01, -3.02578842e-01, -2.45387038e+00, -1.20336824e+00,\n",
       "       -1.90778676e-01, -6.34112300e-01, -4.09714682e-01,  1.69040835e-02,\n",
       "       -3.28697632e-01, -2.20763334e-01,  1.15158133e+00,  1.16644492e+00,\n",
       "       -1.94478871e-01,  4.06743022e-01, -8.12755417e-01,  1.59583807e-01,\n",
       "        3.99396021e-02, -1.11210051e+00,  1.24282315e+00, -1.10970658e+00,\n",
       "       -6.65183915e-01,  1.08304468e+00, -5.99057153e-01,  5.34400298e-01,\n",
       "       -1.11163033e+00,  4.87477304e-01, -7.69745297e-01,  7.13430313e-02,\n",
       "        8.56109371e-01,  1.26225412e+00, -1.17937789e-02,  6.07054060e-01,\n",
       "       -9.78263810e-01,  9.69165070e-01, -4.35502332e-01,  3.30160937e+00,\n",
       "       -4.07698607e-01, -1.68060627e+00,  6.38275180e-01,  1.38835486e+00,\n",
       "        6.75037280e-01, -1.30261392e-01,  4.70721383e-01, -7.08683818e-01,\n",
       "        1.19777984e-02, -1.59989876e+00, -7.43005979e-01,  1.22187313e+00,\n",
       "       -1.01210369e+00, -5.84452258e-01,  4.07614076e-01,  1.23007645e+00,\n",
       "       -1.04994861e+00, -5.54587374e-02, -4.47357553e-01,  6.44230931e-01,\n",
       "        2.02422945e-01,  4.16806371e-01,  6.12255358e-01, -1.00052818e-01,\n",
       "       -7.37908379e-01, -1.33554056e+00,  2.39174097e-01,  1.64880810e-01])"
      ]
     },
     "execution_count": 76,
     "metadata": {},
     "output_type": "execute_result"
    }
   ],
   "source": [
    "X_xor[ :, 0 ]              #Take Each coloumns seperately"
   ]
  },
  {
   "cell_type": "code",
   "execution_count": 77,
   "metadata": {},
   "outputs": [
    {
     "data": {
      "text/plain": [
       "(array([ True,  True,  True, False,  True,  True,  True,  True,  True,\n",
       "        False,  True,  True, False,  True,  True,  True,  True,  True,\n",
       "        False, False,  True, False, False, False,  True,  True, False,\n",
       "        False, False, False,  True,  True, False,  True, False,  True,\n",
       "        False, False,  True,  True,  True,  True,  True,  True, False,\n",
       "         True, False,  True,  True,  True,  True,  True, False, False,\n",
       "        False, False,  True,  True,  True, False,  True,  True,  True,\n",
       "         True, False,  True, False, False, False,  True, False, False,\n",
       "         True,  True,  True,  True,  True, False,  True, False,  True,\n",
       "         True,  True, False,  True, False, False, False,  True, False,\n",
       "        False,  True, False,  True,  True, False, False,  True,  True,\n",
       "         True,  True, False,  True,  True, False, False, False,  True,\n",
       "        False, False, False, False,  True, False, False, False, False,\n",
       "         True, False, False, False,  True, False, False,  True,  True,\n",
       "        False, False,  True, False,  True,  True,  True,  True,  True,\n",
       "         True, False, False, False, False, False, False, False,  True,\n",
       "        False, False,  True,  True, False,  True, False,  True,  True,\n",
       "        False,  True, False, False,  True, False,  True, False,  True,\n",
       "        False,  True,  True,  True, False,  True, False,  True, False,\n",
       "         True, False, False,  True,  True,  True, False,  True, False,\n",
       "         True, False, False,  True, False, False,  True,  True, False,\n",
       "        False, False,  True,  True,  True,  True, False, False, False,\n",
       "         True,  True]),\n",
       " array([ True,  True,  True,  True, False, False, False,  True,  True,\n",
       "         True,  True,  True, False, False,  True, False,  True, False,\n",
       "         True,  True, False, False, False, False, False,  True,  True,\n",
       "         True, False,  True,  True,  True, False, False,  True,  True,\n",
       "         True,  True,  True, False, False,  True, False,  True, False,\n",
       "         True, False,  True, False,  True, False, False, False, False,\n",
       "        False,  True,  True,  True,  True,  True, False, False,  True,\n",
       "        False, False,  True, False, False, False,  True, False, False,\n",
       "        False,  True,  True, False, False,  True, False,  True,  True,\n",
       "         True,  True, False,  True,  True,  True, False, False,  True,\n",
       "         True,  True, False,  True, False, False,  True,  True,  True,\n",
       "         True,  True,  True,  True,  True,  True,  True,  True, False,\n",
       "        False,  True, False, False, False,  True, False,  True,  True,\n",
       "         True,  True,  True,  True, False,  True,  True,  True, False,\n",
       "         True, False,  True,  True,  True,  True,  True,  True,  True,\n",
       "         True,  True, False, False, False,  True,  True,  True, False,\n",
       "        False,  True, False, False, False,  True, False, False,  True,\n",
       "         True,  True, False,  True,  True, False, False,  True,  True,\n",
       "        False, False,  True, False, False,  True,  True, False,  True,\n",
       "        False,  True, False,  True,  True, False, False,  True, False,\n",
       "         True,  True,  True,  True, False, False, False,  True,  True,\n",
       "         True,  True, False, False, False, False, False, False,  True,\n",
       "         True, False]))"
      ]
     },
     "execution_count": 77,
     "metadata": {},
     "output_type": "execute_result"
    }
   ],
   "source": [
    "X_xor_bool = ( X_xor[:, 0] > 0, X_xor[:, 1] > 0)    #Compare both columns with respect to same indexes by comapring it with 0\n",
    "X_xor_bool"
   ]
  },
  {
   "cell_type": "code",
   "execution_count": 78,
   "metadata": {},
   "outputs": [
    {
     "data": {
      "text/plain": [
       "'\\nHere we are doing XOR GAte. False OR False = False\\n                             True OR True = False\\n\\nFor referecnce See :- https://www.electronics-tutorials.ws/logic/logic_7.html\\n'"
      ]
     },
     "execution_count": 78,
     "metadata": {},
     "output_type": "execute_result"
    }
   ],
   "source": [
    "y_xor = np.logical_xor( X_xor_bool[0], X_xor_bool[1] )   #Store XOR of all columns in X into a temporary variable.\n",
    "y_xor\n",
    "\n",
    "\"\"\"\n",
    "Here we are doing XOR GAte. False OR False = False\n",
    "                             True OR True = False\n",
    "\n",
    "For referecnce See :- https://www.electronics-tutorials.ws/logic/logic_7.html\n",
    "\"\"\""
   ]
  },
  {
   "cell_type": "code",
   "execution_count": 79,
   "metadata": {},
   "outputs": [
    {
     "name": "stdout",
     "output_type": "stream",
     "text": [
      "len( X_xor ) = 200\n",
      "len( X_xor_bool ) = 2\n",
      "len( X_xor_bool[0] ) = 200\n",
      "len( X_xor_bool[1] ) = 200\n",
      "len( y_xor ) = 200\n"
     ]
    }
   ],
   "source": [
    "print( f\"len( X_xor ) = { len( X_xor ) }\" )\n",
    "print( f\"len( X_xor_bool ) = { len( X_xor_bool ) }\" )\n",
    "print( f\"len( X_xor_bool[0] ) = { len( X_xor_bool[0] ) }\" )\n",
    "print( f\"len( X_xor_bool[1] ) = { len( X_xor_bool[1] ) }\" )\n",
    "print( f\"len( y_xor ) = { len( y_xor ) }\" )"
   ]
  },
  {
   "cell_type": "code",
   "execution_count": 80,
   "metadata": {},
   "outputs": [
    {
     "data": {
      "text/plain": [
       "array([False, False, False,  True,  True,  True,  True, False, False,\n",
       "        True, False, False, False,  True, False,  True, False,  True,\n",
       "        True,  True,  True, False, False, False,  True, False,  True,\n",
       "        True, False,  True, False, False, False,  True,  True, False,\n",
       "        True,  True, False,  True,  True, False,  True, False, False,\n",
       "       False, False, False,  True, False,  True,  True, False, False,\n",
       "       False,  True, False, False, False,  True,  True,  True, False,\n",
       "        True, False, False, False, False, False, False, False, False,\n",
       "        True, False, False,  True,  True,  True,  True,  True, False,\n",
       "       False, False, False, False,  True,  True, False,  True,  True,\n",
       "        True, False, False, False,  True, False,  True, False, False,\n",
       "       False, False,  True, False, False,  True,  True,  True,  True,\n",
       "       False,  True, False, False,  True,  True, False,  True,  True,\n",
       "       False,  True,  True,  True,  True,  True,  True, False,  True,\n",
       "        True, False, False,  True, False, False, False, False, False,\n",
       "       False,  True, False, False, False,  True,  True,  True,  True,\n",
       "       False,  True,  True,  True, False, False, False,  True, False,\n",
       "        True, False, False,  True, False, False,  True,  True, False,\n",
       "       False,  True, False,  True, False, False,  True,  True,  True,\n",
       "        True,  True, False, False, False,  True, False, False, False,\n",
       "       False,  True,  True, False, False, False,  True, False,  True,\n",
       "        True,  True,  True,  True,  True,  True, False, False,  True,\n",
       "       False,  True])"
      ]
     },
     "execution_count": 80,
     "metadata": {},
     "output_type": "execute_result"
    }
   ],
   "source": [
    "temp_xor = []\n",
    "\n",
    "for i in range( len( X_xor_bool[0] ) ):\n",
    "    \n",
    "    if( (X_xor_bool[0][i] == True and X_xor_bool[1][i] == True ) or (X_xor_bool[0][i] == False and X_xor_bool[1][i] == False ) ):\n",
    "        temp_xor.append( False )\n",
    "    \n",
    "    else:\n",
    "        temp_xor.append( True )\n",
    "    \n",
    "temp_xor = np.array( temp_xor )\n",
    "temp_xor"
   ]
  },
  {
   "cell_type": "code",
   "execution_count": 81,
   "metadata": {},
   "outputs": [
    {
     "data": {
      "text/plain": [
       "True"
      ]
     },
     "execution_count": 81,
     "metadata": {},
     "output_type": "execute_result"
    }
   ],
   "source": [
    "len( temp_xor ) == len( y_xor )"
   ]
  },
  {
   "cell_type": "code",
   "execution_count": 82,
   "metadata": {},
   "outputs": [
    {
     "data": {
      "text/plain": [
       "array([ True,  True,  True,  True,  True,  True,  True,  True,  True,\n",
       "        True,  True,  True,  True,  True,  True,  True,  True,  True,\n",
       "        True,  True,  True,  True,  True,  True,  True,  True,  True,\n",
       "        True,  True,  True,  True,  True,  True,  True,  True,  True,\n",
       "        True,  True,  True,  True,  True,  True,  True,  True,  True,\n",
       "        True,  True,  True,  True,  True,  True,  True,  True,  True,\n",
       "        True,  True,  True,  True,  True,  True,  True,  True,  True,\n",
       "        True,  True,  True,  True,  True,  True,  True,  True,  True,\n",
       "        True,  True,  True,  True,  True,  True,  True,  True,  True,\n",
       "        True,  True,  True,  True,  True,  True,  True,  True,  True,\n",
       "        True,  True,  True,  True,  True,  True,  True,  True,  True,\n",
       "        True,  True,  True,  True,  True,  True,  True,  True,  True,\n",
       "        True,  True,  True,  True,  True,  True,  True,  True,  True,\n",
       "        True,  True,  True,  True,  True,  True,  True,  True,  True,\n",
       "        True,  True,  True,  True,  True,  True,  True,  True,  True,\n",
       "        True,  True,  True,  True,  True,  True,  True,  True,  True,\n",
       "        True,  True,  True,  True,  True,  True,  True,  True,  True,\n",
       "        True,  True,  True,  True,  True,  True,  True,  True,  True,\n",
       "        True,  True,  True,  True,  True,  True,  True,  True,  True,\n",
       "        True,  True,  True,  True,  True,  True,  True,  True,  True,\n",
       "        True,  True,  True,  True,  True,  True,  True,  True,  True,\n",
       "        True,  True,  True,  True,  True,  True,  True,  True,  True,\n",
       "        True,  True])"
      ]
     },
     "execution_count": 82,
     "metadata": {},
     "output_type": "execute_result"
    }
   ],
   "source": [
    "temp_xor == y_xor"
   ]
  },
  {
   "cell_type": "code",
   "execution_count": 83,
   "metadata": {},
   "outputs": [
    {
     "data": {
      "text/plain": [
       "array([False, False, False,  True,  True,  True,  True, False, False,\n",
       "        True, False, False, False,  True, False,  True, False,  True,\n",
       "        True,  True,  True, False, False, False,  True, False,  True,\n",
       "        True, False,  True, False, False, False,  True,  True, False,\n",
       "        True,  True, False,  True,  True, False,  True, False, False,\n",
       "       False, False, False,  True, False,  True,  True, False, False,\n",
       "       False,  True, False, False, False,  True,  True,  True, False,\n",
       "        True, False, False, False, False, False, False, False, False,\n",
       "        True, False, False,  True,  True,  True,  True,  True, False,\n",
       "       False, False, False, False,  True,  True, False,  True,  True,\n",
       "        True, False, False, False,  True, False,  True, False, False,\n",
       "       False, False,  True, False, False,  True,  True,  True,  True,\n",
       "       False,  True, False, False,  True,  True, False,  True,  True,\n",
       "       False,  True,  True,  True,  True,  True,  True, False,  True,\n",
       "        True, False, False,  True, False, False, False, False, False,\n",
       "       False,  True, False, False, False,  True,  True,  True,  True,\n",
       "       False,  True,  True,  True, False, False, False,  True, False,\n",
       "        True, False, False,  True, False, False,  True,  True, False,\n",
       "       False,  True, False,  True, False, False,  True,  True,  True,\n",
       "        True,  True, False, False, False,  True, False, False, False,\n",
       "       False,  True,  True, False, False, False,  True, False,  True,\n",
       "        True,  True,  True,  True,  True,  True, False, False,  True,\n",
       "       False,  True])"
      ]
     },
     "execution_count": 83,
     "metadata": {},
     "output_type": "execute_result"
    }
   ],
   "source": [
    "y_xor"
   ]
  },
  {
   "cell_type": "code",
   "execution_count": 84,
   "metadata": {},
   "outputs": [],
   "source": [
    "y_xor = np.where(y_xor, 1, -1)                     #Then, Do where to convert True into 1 and False into -1 in temporary variable."
   ]
  },
  {
   "cell_type": "code",
   "execution_count": 85,
   "metadata": {},
   "outputs": [
    {
     "name": "stdout",
     "output_type": "stream",
     "text": [
      "[[0 1 2]\n",
      " [0 2 4]\n",
      " [0 3 6]]\n",
      "\n"
     ]
    },
    {
     "data": {
      "text/plain": [
       "array([[ 0,  1,  2],\n",
       "       [ 0,  2, -1],\n",
       "       [ 0,  3, -1]])"
      ]
     },
     "execution_count": 85,
     "metadata": {},
     "output_type": "execute_result"
    }
   ],
   "source": [
    "#we are converting all True values inside y_xor as 1 and False as -1.\n",
    "#For reference see,\n",
    "a = np.array( [ [0, 1, 2],\n",
    "              [0, 2, 4],\n",
    "              [0, 3, 6] ] )\n",
    "print( a )\n",
    "print()\n",
    "np.where(a < 4, a, -1)   #Where ever condition matches it is converting that element of a as it as. which doesn't matches\n",
    "                         # it is converting it into -1."
   ]
  },
  {
   "cell_type": "code",
   "execution_count": 86,
   "metadata": {},
   "outputs": [
    {
     "data": {
      "text/plain": [
       "array([False, False, False,  True,  True,  True,  True, False, False,\n",
       "        True, False, False, False,  True, False,  True, False,  True,\n",
       "        True,  True,  True, False, False, False,  True, False,  True,\n",
       "        True, False,  True, False, False, False,  True,  True, False,\n",
       "        True,  True, False,  True,  True, False,  True, False, False,\n",
       "       False, False, False,  True, False,  True,  True, False, False,\n",
       "       False,  True, False, False, False,  True,  True,  True, False,\n",
       "        True, False, False, False, False, False, False, False, False,\n",
       "        True, False, False,  True,  True,  True,  True,  True, False,\n",
       "       False, False, False, False,  True,  True, False,  True,  True,\n",
       "        True, False, False, False,  True, False,  True, False, False,\n",
       "       False, False,  True, False, False,  True,  True,  True,  True,\n",
       "       False,  True, False, False,  True,  True, False,  True,  True,\n",
       "       False,  True,  True,  True,  True,  True,  True, False,  True,\n",
       "        True, False, False,  True, False, False, False, False, False,\n",
       "       False,  True, False, False, False,  True,  True,  True,  True,\n",
       "       False,  True,  True,  True, False, False, False,  True, False,\n",
       "        True, False, False,  True, False, False,  True,  True, False,\n",
       "       False,  True, False,  True, False, False,  True,  True,  True,\n",
       "        True,  True, False, False, False,  True, False, False, False,\n",
       "       False,  True,  True, False, False, False,  True, False,  True,\n",
       "        True,  True,  True,  True,  True,  True, False, False,  True,\n",
       "       False,  True])"
      ]
     },
     "execution_count": 86,
     "metadata": {},
     "output_type": "execute_result"
    }
   ],
   "source": [
    "y_xor == 1"
   ]
  },
  {
   "cell_type": "code",
   "execution_count": 87,
   "metadata": {},
   "outputs": [
    {
     "data": {
      "text/plain": [
       "array([[ 2.53328295e-01,  1.67238297e+00],\n",
       "       [ 6.94469853e-01,  6.73731659e-01],\n",
       "       [ 6.34281154e-01,  9.64589345e-01],\n",
       "       [-1.36249148e+00,  1.52675092e-01],\n",
       "       [ 1.06717412e+00, -6.70146178e-01],\n",
       "       [ 3.07718814e-03, -4.58828246e-01],\n",
       "       [ 1.04481898e+00, -2.42709858e-01],\n",
       "       [ 1.13426076e+00,  2.33206202e-02],\n",
       "       [ 1.82372429e+00,  1.04034431e+00],\n",
       "       [-1.03699084e+00,  1.41341208e-01],\n",
       "       [ 8.01757358e-01,  1.05366766e+00],\n",
       "       [ 2.33924882e-01,  1.19396722e+00],\n",
       "       [-3.15378605e-01, -8.82088211e-01],\n",
       "       [ 1.85078055e-01, -9.36584214e-03],\n",
       "       [ 1.36071759e+00,  9.61855621e-01],\n",
       "       [ 1.34986183e+00, -1.12558146e+00],\n",
       "       [ 1.70684738e-01,  1.35989077e-01],\n",
       "       [ 8.61719882e-01, -2.96973811e-02],\n",
       "       [-7.69645892e-01,  1.51497341e+00],\n",
       "       [-8.78990213e-01,  3.07462182e-01],\n",
       "       [ 7.82246650e-01, -7.27921961e-01],\n",
       "       [-5.47189386e-01, -2.88387257e-01],\n",
       "       [-1.71032167e+00, -6.54118675e-01],\n",
       "       [-1.61421487e+00, -4.29873264e-01],\n",
       "       [ 7.25758494e-01, -1.98903794e+00],\n",
       "       [ 5.52210175e-01,  1.05235131e+00],\n",
       "       [-8.94515839e-01,  3.95135522e-01],\n",
       "       [-3.47317977e-01,  5.28715871e-02],\n",
       "       [-1.42943856e+00, -1.58113244e+00],\n",
       "       [-5.95477335e-02,  2.95461991e-01],\n",
       "       [ 6.31365975e-01,  6.95680207e-01],\n",
       "       [ 4.92785983e-02,  2.21367418e+00],\n",
       "       [-2.93005112e-01, -7.07653324e-01],\n",
       "       [ 3.23784009e-02, -1.76349193e-01],\n",
       "       [-1.81911625e+00,  3.84289343e-01],\n",
       "       [ 1.67239030e+00,  5.13743239e-01],\n",
       "       [-7.66174263e-01,  8.15883775e-01],\n",
       "       [-5.15813273e-02,  6.35752468e-01],\n",
       "       [ 4.02291828e-01,  3.96285671e-01],\n",
       "       [ 4.60147418e-01, -1.44028096e+00],\n",
       "       [ 4.94471111e-01, -9.98551712e-01],\n",
       "       [ 1.08928553e+00,  4.94201314e-01],\n",
       "       [ 6.90637087e-01, -1.23379128e-02],\n",
       "       [ 3.29256768e-01,  2.30308328e-01],\n",
       "       [-4.49191015e-02, -1.29580680e-01],\n",
       "       [ 4.78608102e-01,  3.79540730e-01],\n",
       "       [-9.44430689e-01, -6.27203932e-01],\n",
       "       [ 1.21716931e+00,  2.69691810e-01],\n",
       "       [ 4.21237119e-01, -1.19758372e+00],\n",
       "       [ 8.83308681e-01,  6.45090951e-01],\n",
       "       [ 1.13669439e+00, -5.79757471e-01],\n",
       "       [ 1.21608265e+00, -5.69005268e-01],\n",
       "       [-2.02198670e-01, -6.62989419e-01],\n",
       "       [-1.24413586e-02, -3.83780817e-01],\n",
       "       [-1.63267705e+00, -4.35253319e-01],\n",
       "       [-5.23532373e-01,  6.96580746e-01],\n",
       "       [ 1.18291292e-01,  5.31495459e-01],\n",
       "       [ 3.35805250e-01,  1.49092401e-01],\n",
       "       [ 9.06605474e-02,  9.97329669e-02],\n",
       "       [-5.45233501e-01,  1.15864205e+00],\n",
       "       [ 7.02730607e-01, -1.32344531e+00],\n",
       "       [ 1.32051074e+00, -8.06096111e-01],\n",
       "       [ 3.58725645e-01,  1.29579349e+00],\n",
       "       [ 4.10024736e-01, -5.62229038e-01],\n",
       "       [-2.63875319e-01, -2.66628695e-02],\n",
       "       [ 2.12350979e-01,  5.87083509e-01],\n",
       "       [-1.37758710e+00, -1.47757805e+00],\n",
       "       [-1.09697829e+00, -3.00472994e-01],\n",
       "       [-1.09670896e+00, -4.07746476e-01],\n",
       "       [ 1.64900661e+00,  1.21866203e-01],\n",
       "       [-2.00101720e+00, -8.07619750e-03],\n",
       "       [-4.68303998e-01, -2.26259296e-03],\n",
       "       [ 9.77817194e-01, -1.98325498e-01],\n",
       "       [ 1.10130297e+00,  2.58658518e-01],\n",
       "       [ 8.04173358e-02,  1.95068114e+00],\n",
       "       [ 2.15817372e+00, -1.05351310e+00],\n",
       "       [ 8.67047170e-01, -5.96265462e-01],\n",
       "       [-2.91676146e-01,  6.51274807e-01],\n",
       "       [ 8.84316518e-02, -1.13675282e+00],\n",
       "       [-8.42458825e-01,  9.98580302e-02],\n",
       "       [ 9.82408104e-01,  1.23756063e+00],\n",
       "       [ 2.20852928e-02,  6.50662629e-01],\n",
       "       [ 1.42200833e+00,  1.68821117e-01],\n",
       "       [-1.27852832e+00, -1.42621392e+00],\n",
       "       [ 1.61727916e+00,  2.84016442e-01],\n",
       "       [-1.39182365e+00,  2.77192774e-01],\n",
       "       [-8.57740293e-01,  5.07147982e-01],\n",
       "       [-1.07192494e+00, -1.91363971e-01],\n",
       "       [ 1.03422027e+00, -5.94098970e-01],\n",
       "       [-1.28071528e+00,  9.51834960e-01],\n",
       "       [-2.01149014e+00,  2.28097946e+00],\n",
       "       [ 1.03017810e+00,  1.33646636e+00],\n",
       "       [-1.32324692e+00, -2.33196577e-01],\n",
       "       [ 1.33562706e+00,  1.92472108e+00],\n",
       "       [ 7.34497162e-01, -6.73391440e-01],\n",
       "       [-5.54236838e-01, -1.78641607e+00],\n",
       "       [-7.21481391e-01,  7.79246860e-02],\n",
       "       [ 2.45122008e-01,  1.45129602e+00],\n",
       "       [ 6.51754507e-01,  1.04326397e+00],\n",
       "       [ 1.36208913e+00,  6.03960755e-01],\n",
       "       [ 5.57937524e-01,  3.11395967e-01],\n",
       "       [-5.28956151e-01,  6.83472393e-01],\n",
       "       [ 2.25580231e+00,  1.53719845e+00],\n",
       "       [ 7.19231794e-01,  3.85262131e-01],\n",
       "       [-1.32694682e+00,  1.01395827e+00],\n",
       "       [-1.09392792e-01,  5.27481133e-02],\n",
       "       [-1.49658295e+00,  8.99286277e-01],\n",
       "       [ 5.64230711e-01, -1.26317817e+00],\n",
       "       [-7.67779225e-01, -1.00411675e+00],\n",
       "       [-1.02713175e+00,  1.37078153e+00],\n",
       "       [-5.54813938e-02, -1.68099272e+00],\n",
       "       [-8.36531687e-01, -2.74659025e-02],\n",
       "       [ 5.02176474e-01, -1.83802482e+00],\n",
       "       [-2.90692975e-01,  4.25379510e-02],\n",
       "       [-9.41550292e-01, -2.72160178e-01],\n",
       "       [-1.02504638e+00,  7.39270430e-01],\n",
       "       [-8.69055085e-02,  9.45351721e-01],\n",
       "       [ 6.72419022e-01,  1.66666475e+00],\n",
       "       [-4.87165886e-01,  3.17200722e-01],\n",
       "       [-8.40796647e-01,  8.62343842e-01],\n",
       "       [-6.16194255e-01,  7.59578434e-01],\n",
       "       [ 2.71541100e-01, -2.01025325e-02],\n",
       "       [-1.10142071e+00,  9.15347852e-01],\n",
       "       [-1.56899609e+00,  1.31075285e+00],\n",
       "       [ 8.94868630e-01,  8.94840678e-01],\n",
       "       [ 9.99687943e-02, -4.87957567e-01],\n",
       "       [-2.10704835e-01,  1.94150186e+00],\n",
       "       [-3.80844575e-03, -9.27684980e-01],\n",
       "       [ 1.25120381e+00,  2.31614274e-01],\n",
       "       [-1.11868855e+00,  5.37101673e-01],\n",
       "       [ 8.69432483e-01,  4.14813563e-01],\n",
       "       [ 2.55524168e-01,  1.56684519e+00],\n",
       "       [ 5.61375159e-01,  6.15432140e-01],\n",
       "       [ 6.80232776e-01,  1.45051893e+00],\n",
       "       [ 1.09454636e+00,  2.64219057e-01],\n",
       "       [ 8.44349410e-01,  4.06441195e-01],\n",
       "       [-5.66264453e-01,  7.54466241e-01],\n",
       "       [-3.02578842e-01, -6.89997170e-01],\n",
       "       [-2.45387038e+00, -2.70593210e+00],\n",
       "       [-1.20336824e+00, -3.31861611e-01],\n",
       "       [-1.90778676e-01,  9.92839322e-01],\n",
       "       [-6.34112300e-01,  1.00467387e+00],\n",
       "       [-4.09714682e-01,  6.50792720e-01],\n",
       "       [ 1.69040835e-02, -4.41634856e-01],\n",
       "       [-3.28697632e-01, -1.86127721e+00],\n",
       "       [-2.20763334e-01,  1.19751517e-01],\n",
       "       [ 1.15158133e+00, -1.23690463e+00],\n",
       "       [ 1.16644492e+00, -1.67343362e+00],\n",
       "       [-1.94478871e-01, -9.17185410e-01],\n",
       "       [ 4.06743022e-01,  5.77582464e-01],\n",
       "       [-8.12755417e-01, -3.09352256e-01],\n",
       "       [ 1.59583807e-01, -9.28356708e-01],\n",
       "       [ 3.99396021e-02,  5.18733089e-01],\n",
       "       [-1.11210051e+00,  3.69996342e-01],\n",
       "       [ 1.24282315e+00,  2.87787108e-01],\n",
       "       [-1.10970658e+00, -7.28922331e-01],\n",
       "       [-6.65183915e-01,  3.18518833e+00],\n",
       "       [ 1.08304468e+00,  9.95118681e-01],\n",
       "       [-5.99057153e-01, -4.43841133e-01],\n",
       "       [ 5.34400298e-01, -8.15352464e-02],\n",
       "       [-1.11163033e+00,  4.58963708e-01],\n",
       "       [ 4.87477304e-01,  2.57884206e-01],\n",
       "       [-7.69745297e-01, -7.64438405e-01],\n",
       "       [ 7.13430313e-02, -1.04823606e+00],\n",
       "       [ 8.56109371e-01,  8.04593115e-01],\n",
       "       [ 1.26225412e+00, -5.16824700e-01],\n",
       "       [-1.17937789e-02, -5.18757430e-01],\n",
       "       [ 6.07054060e-01,  9.48868126e-02],\n",
       "       [-9.78263810e-01,  2.83664290e+00],\n",
       "       [ 9.69165070e-01, -5.55060682e-01],\n",
       "       [-4.35502332e-01,  8.93991208e-01],\n",
       "       [ 3.30160937e+00, -3.86432052e-01],\n",
       "       [-4.07698607e-01,  7.48441533e-01],\n",
       "       [-1.68060627e+00, -3.46147843e-02],\n",
       "       [ 6.38275180e-01,  1.26759712e+00],\n",
       "       [ 1.38835486e+00,  8.69823474e-01],\n",
       "       [ 6.75037280e-01, -2.00670235e+00],\n",
       "       [-1.30261392e-01, -1.83322212e+00],\n",
       "       [ 4.70721383e-01,  1.91925042e+00],\n",
       "       [-7.08683818e-01, -6.14394572e-01],\n",
       "       [ 1.19777984e-02,  7.60444143e-01],\n",
       "       [-1.59989876e+00,  2.85609966e+00],\n",
       "       [-7.43005979e-01,  1.09310629e+00],\n",
       "       [ 1.22187313e+00,  5.62904116e-01],\n",
       "       [-1.01210369e+00, -1.48092635e-01],\n",
       "       [-5.84452258e-01, -5.52021674e-01],\n",
       "       [ 4.07614076e-01, -4.74499637e-01],\n",
       "       [ 1.23007645e+00,  4.87733933e-01],\n",
       "       [-1.04994861e+00,  7.08832255e-01],\n",
       "       [-5.54587374e-02,  2.83393830e-01],\n",
       "       [-4.47357553e-01,  4.91481665e-01],\n",
       "       [ 6.44230931e-01, -3.36392285e-01],\n",
       "       [ 2.02422945e-01, -1.07436842e+00],\n",
       "       [ 4.16806371e-01, -9.84756824e-01],\n",
       "       [ 6.12255358e-01, -6.70060927e-02],\n",
       "       [-1.00052818e-01, -3.85213508e-02],\n",
       "       [-7.37908379e-01, -3.39305770e-01],\n",
       "       [-1.33554056e+00,  2.82380128e-01],\n",
       "       [ 2.39174097e-01,  5.89798220e-01],\n",
       "       [ 1.64880810e-01, -1.15535597e+00]])"
      ]
     },
     "execution_count": 87,
     "metadata": {},
     "output_type": "execute_result"
    }
   ],
   "source": [
    "X_xor"
   ]
  },
  {
   "cell_type": "code",
   "execution_count": 88,
   "metadata": {},
   "outputs": [
    {
     "data": {
      "text/plain": [
       "array([-1.36249148e+00,  1.06717412e+00,  3.07718814e-03,  1.04481898e+00,\n",
       "       -1.03699084e+00,  1.85078055e-01,  1.34986183e+00,  8.61719882e-01,\n",
       "       -7.69645892e-01, -8.78990213e-01,  7.82246650e-01,  7.25758494e-01,\n",
       "       -8.94515839e-01, -3.47317977e-01, -5.95477335e-02,  3.23784009e-02,\n",
       "       -1.81911625e+00, -7.66174263e-01, -5.15813273e-02,  4.60147418e-01,\n",
       "        4.94471111e-01,  6.90637087e-01,  4.21237119e-01,  1.13669439e+00,\n",
       "        1.21608265e+00, -5.23532373e-01, -5.45233501e-01,  7.02730607e-01,\n",
       "        1.32051074e+00,  4.10024736e-01,  9.77817194e-01,  2.15817372e+00,\n",
       "        8.67047170e-01, -2.91676146e-01,  8.84316518e-02, -8.42458825e-01,\n",
       "       -1.39182365e+00, -8.57740293e-01,  1.03422027e+00, -1.28071528e+00,\n",
       "       -2.01149014e+00,  7.34497162e-01, -7.21481391e-01, -5.28956151e-01,\n",
       "       -1.32694682e+00, -1.09392792e-01, -1.49658295e+00,  5.64230711e-01,\n",
       "       -1.02713175e+00,  5.02176474e-01, -2.90692975e-01, -1.02504638e+00,\n",
       "       -8.69055085e-02, -4.87165886e-01, -8.40796647e-01, -6.16194255e-01,\n",
       "        2.71541100e-01, -1.10142071e+00, -1.56899609e+00,  9.99687943e-02,\n",
       "       -2.10704835e-01, -1.11868855e+00, -5.66264453e-01, -1.90778676e-01,\n",
       "       -6.34112300e-01, -4.09714682e-01,  1.69040835e-02, -2.20763334e-01,\n",
       "        1.15158133e+00,  1.16644492e+00,  1.59583807e-01, -1.11210051e+00,\n",
       "       -6.65183915e-01,  5.34400298e-01, -1.11163033e+00,  7.13430313e-02,\n",
       "        1.26225412e+00, -9.78263810e-01,  9.69165070e-01, -4.35502332e-01,\n",
       "        3.30160937e+00, -4.07698607e-01,  6.75037280e-01, -1.59989876e+00,\n",
       "       -7.43005979e-01,  4.07614076e-01, -1.04994861e+00, -5.54587374e-02,\n",
       "       -4.47357553e-01,  6.44230931e-01,  2.02422945e-01,  4.16806371e-01,\n",
       "        6.12255358e-01, -1.33554056e+00,  1.64880810e-01])"
      ]
     },
     "execution_count": 88,
     "metadata": {},
     "output_type": "execute_result"
    }
   ],
   "source": [
    "X_xor[y_xor == 1, 0]\n",
    "\n",
    "#Use Temporary variable and then, do thisto get the X_xor back with respect to (1, 0) and (1, 1)"
   ]
  },
  {
   "cell_type": "code",
   "execution_count": 89,
   "metadata": {},
   "outputs": [
    {
     "data": {
      "text/plain": [
       "array([ 0.15267509, -0.67014618, -0.45882825, -0.24270986,  0.14134121,\n",
       "       -0.00936584, -1.12558146, -0.02969738,  1.51497341,  0.30746218,\n",
       "       -0.72792196, -1.98903794,  0.39513552,  0.05287159,  0.29546199,\n",
       "       -0.17634919,  0.38428934,  0.81588377,  0.63575247, -1.44028096,\n",
       "       -0.99855171, -0.01233791, -1.19758372, -0.57975747, -0.56900527,\n",
       "        0.69658075,  1.15864205, -1.32344531, -0.80609611, -0.56222904,\n",
       "       -0.1983255 , -1.0535131 , -0.59626546,  0.65127481, -1.13675282,\n",
       "        0.09985803,  0.27719277,  0.50714798, -0.59409897,  0.95183496,\n",
       "        2.28097946, -0.67339144,  0.07792469,  0.68347239,  1.01395827,\n",
       "        0.05274811,  0.89928628, -1.26317817,  1.37078153, -1.83802482,\n",
       "        0.04253795,  0.73927043,  0.94535172,  0.31720072,  0.86234384,\n",
       "        0.75957843, -0.02010253,  0.91534785,  1.31075285, -0.48795757,\n",
       "        1.94150186,  0.53710167,  0.75446624,  0.99283932,  1.00467387,\n",
       "        0.65079272, -0.44163486,  0.11975152, -1.23690463, -1.67343362,\n",
       "       -0.92835671,  0.36999634,  3.18518833, -0.08153525,  0.45896371,\n",
       "       -1.04823606, -0.5168247 ,  2.8366429 , -0.55506068,  0.89399121,\n",
       "       -0.38643205,  0.74844153, -2.00670235,  2.85609966,  1.09310629,\n",
       "       -0.47449964,  0.70883225,  0.28339383,  0.49148167, -0.33639229,\n",
       "       -1.07436842, -0.98475682, -0.06700609,  0.28238013, -1.15535597])"
      ]
     },
     "execution_count": 89,
     "metadata": {},
     "output_type": "execute_result"
    }
   ],
   "source": [
    "X_xor[y_xor == 1, 1]                      \n",
    "\n",
    "#Use Temporary variable and then, do thisto get the X_xor back with respect to (1, 0) and (1, 1)"
   ]
  },
  {
   "cell_type": "code",
   "execution_count": 90,
   "metadata": {},
   "outputs": [
    {
     "data": {
      "text/plain": [
       "array([ 0.2533283 ,  0.69446985,  0.63428115,  1.13426076,  1.82372429,\n",
       "        0.80175736,  0.23392488, -0.3153786 ,  1.36071759,  0.17068474,\n",
       "       -0.54718939, -1.71032167, -1.61421487,  0.55221017, -1.42943856,\n",
       "        0.63136598,  0.0492786 , -0.29300511,  1.6723903 ,  0.40229183,\n",
       "        1.08928553,  0.32925677, -0.0449191 ,  0.4786081 , -0.94443069,\n",
       "        1.21716931,  0.88330868, -0.20219867, -0.01244136, -1.63267705,\n",
       "        0.11829129,  0.33580525,  0.09066055,  0.35872564, -0.26387532,\n",
       "        0.21235098, -1.3775871 , -1.09697829, -1.09670896,  1.64900661,\n",
       "       -2.0010172 , -0.468304  ,  1.10130297,  0.08041734,  0.9824081 ,\n",
       "        0.02208529,  1.42200833, -1.27852832,  1.61727916, -1.07192494,\n",
       "        1.0301781 , -1.32324692,  1.33562706, -0.55423684,  0.24512201,\n",
       "        0.65175451,  1.36208913,  0.55793752,  2.25580231,  0.71923179,\n",
       "       -0.76777923, -0.05548139, -0.83653169, -0.94155029,  0.67241902,\n",
       "        0.89486863, -0.00380845,  1.25120381,  0.86943248,  0.25552417,\n",
       "        0.56137516,  0.68023278,  1.09454636,  0.84434941, -0.30257884,\n",
       "       -2.45387038, -1.20336824, -0.32869763, -0.19447887,  0.40674302,\n",
       "       -0.81275542,  0.0399396 ,  1.24282315, -1.10970658,  1.08304468,\n",
       "       -0.59905715,  0.4874773 , -0.7697453 ,  0.85610937, -0.01179378,\n",
       "        0.60705406, -1.68060627,  0.63827518,  1.38835486, -0.13026139,\n",
       "        0.47072138, -0.70868382,  0.0119778 ,  1.22187313, -1.01210369,\n",
       "       -0.58445226,  1.23007645, -0.10005282, -0.73790838,  0.2391741 ])"
      ]
     },
     "execution_count": 90,
     "metadata": {},
     "output_type": "execute_result"
    }
   ],
   "source": [
    "X_xor[y_xor == -1, 0]                      \n",
    "\n",
    "#Use Temporary variable and then, do thisto get the X_xor back with respect to (1, 0) and (1, 1)"
   ]
  },
  {
   "cell_type": "code",
   "execution_count": 91,
   "metadata": {},
   "outputs": [
    {
     "data": {
      "text/plain": [
       "array([ 1.67238297e+00,  6.73731659e-01,  9.64589345e-01,  2.33206202e-02,\n",
       "        1.04034431e+00,  1.05366766e+00,  1.19396722e+00, -8.82088211e-01,\n",
       "        9.61855621e-01,  1.35989077e-01, -2.88387257e-01, -6.54118675e-01,\n",
       "       -4.29873264e-01,  1.05235131e+00, -1.58113244e+00,  6.95680207e-01,\n",
       "        2.21367418e+00, -7.07653324e-01,  5.13743239e-01,  3.96285671e-01,\n",
       "        4.94201314e-01,  2.30308328e-01, -1.29580680e-01,  3.79540730e-01,\n",
       "       -6.27203932e-01,  2.69691810e-01,  6.45090951e-01, -6.62989419e-01,\n",
       "       -3.83780817e-01, -4.35253319e-01,  5.31495459e-01,  1.49092401e-01,\n",
       "        9.97329669e-02,  1.29579349e+00, -2.66628695e-02,  5.87083509e-01,\n",
       "       -1.47757805e+00, -3.00472994e-01, -4.07746476e-01,  1.21866203e-01,\n",
       "       -8.07619750e-03, -2.26259296e-03,  2.58658518e-01,  1.95068114e+00,\n",
       "        1.23756063e+00,  6.50662629e-01,  1.68821117e-01, -1.42621392e+00,\n",
       "        2.84016442e-01, -1.91363971e-01,  1.33646636e+00, -2.33196577e-01,\n",
       "        1.92472108e+00, -1.78641607e+00,  1.45129602e+00,  1.04326397e+00,\n",
       "        6.03960755e-01,  3.11395967e-01,  1.53719845e+00,  3.85262131e-01,\n",
       "       -1.00411675e+00, -1.68099272e+00, -2.74659025e-02, -2.72160178e-01,\n",
       "        1.66666475e+00,  8.94840678e-01, -9.27684980e-01,  2.31614274e-01,\n",
       "        4.14813563e-01,  1.56684519e+00,  6.15432140e-01,  1.45051893e+00,\n",
       "        2.64219057e-01,  4.06441195e-01, -6.89997170e-01, -2.70593210e+00,\n",
       "       -3.31861611e-01, -1.86127721e+00, -9.17185410e-01,  5.77582464e-01,\n",
       "       -3.09352256e-01,  5.18733089e-01,  2.87787108e-01, -7.28922331e-01,\n",
       "        9.95118681e-01, -4.43841133e-01,  2.57884206e-01, -7.64438405e-01,\n",
       "        8.04593115e-01, -5.18757430e-01,  9.48868126e-02, -3.46147843e-02,\n",
       "        1.26759712e+00,  8.69823474e-01, -1.83322212e+00,  1.91925042e+00,\n",
       "       -6.14394572e-01,  7.60444143e-01,  5.62904116e-01, -1.48092635e-01,\n",
       "       -5.52021674e-01,  4.87733933e-01, -3.85213508e-02, -3.39305770e-01,\n",
       "        5.89798220e-01])"
      ]
     },
     "execution_count": 91,
     "metadata": {},
     "output_type": "execute_result"
    }
   ],
   "source": [
    "X_xor[y_xor == -1, 1]                      \n",
    "\n",
    "#Use Temporary variable and then, do thisto get the X_xor back with respect to (1, 0) and (1, 1)"
   ]
  },
  {
   "cell_type": "code",
   "execution_count": 92,
   "metadata": {},
   "outputs": [],
   "source": [
    "import matplotlib.pyplot as plt"
   ]
  },
  {
   "cell_type": "code",
   "execution_count": 93,
   "metadata": {},
   "outputs": [
    {
     "data": {
      "text/plain": [
       "(-3, 3)"
      ]
     },
     "execution_count": 93,
     "metadata": {},
     "output_type": "execute_result"
    },
    {
     "data": {
      "image/png": "[encoded data removed]",
      "text/plain": [
       "<Figure size 432x288 with 1 Axes>"
      ]
     },
     "metadata": {
      "needs_background": "light"
     },
     "output_type": "display_data"
    }
   ],
   "source": [
    "plt.xlim([-3, 3])   \n",
    "plt.ylim([-3, 3])"
   ]
  },
  {
   "cell_type": "code",
   "execution_count": 94,
   "metadata": {},
   "outputs": [
    {
     "data": {
      "image/png": "[encoded data removed]",
      "text/plain": [
       "<Figure size 432x288 with 1 Axes>"
      ]
     },
     "metadata": {
      "needs_background": "light"
     },
     "output_type": "display_data"
    }
   ],
   "source": [
    "plt.scatter(X_xor[y_xor == 1, 0],\n",
    "            X_xor[y_xor == 1, 1],\n",
    "            color = 'blue', marker='x',\n",
    "            label='1')\n",
    "\n",
    "plt.scatter(X_xor[y_xor == -1, 0],\n",
    "            X_xor[y_xor == -1, 1],\n",
    "            color='red',\n",
    "            marker='o',\n",
    "            label='-1')\n",
    "\n",
    "plt.xlim([-3, 3])\n",
    "plt.ylim([-3, 3])\n",
    "\n",
    "plt.legend(loc='best')\n",
    "plt.tight_layout()\n",
    "plt.show()"
   ]
  },
  {
   "cell_type": "code",
   "execution_count": null,
   "metadata": {},
   "outputs": [],
   "source": []
  }
 ],
 "metadata": {
  "kernelspec": {
   "display_name": "Python 3",
   "language": "python",
   "name": "python3"
  },
  "language_info": {
   "codemirror_mode": {
    "name": "ipython",
    "version": 3
   },
   "file_extension": ".py",
   "mimetype": "text/x-python",
   "name": "python",
   "nbconvert_exporter": "python",
   "pygments_lexer": "ipython3",
   "version": "3.7.2"
  }
 },
 "nbformat": 4,
 "nbformat_minor": 2
}
