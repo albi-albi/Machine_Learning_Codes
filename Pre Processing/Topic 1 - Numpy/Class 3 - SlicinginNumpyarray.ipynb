{
 "cells": [
  {
   "cell_type": "code",
   "execution_count": 1,
   "metadata": {},
   "outputs": [
    {
     "data": {
      "text/plain": [
       "'\\nslicing of string\\nmsg = \"Hello, How are you ?\"\\n\\n#startindex <= index < end_index\\n\\nprint(msg[7: 20] )\\n'"
      ]
     },
     "execution_count": 1,
     "metadata": {},
     "output_type": "execute_result"
    }
   ],
   "source": [
    "import numpy as np\n",
    "\n",
    "'''\n",
    "slicing of string\n",
    "msg = \"Hello, How are you ?\"\n",
    "\n",
    "#startindex <= index < end_index\n",
    "\n",
    "print(msg[7: 20] )\n",
    "'''"
   ]
  },
  {
   "cell_type": "code",
   "execution_count": 2,
   "metadata": {},
   "outputs": [
    {
     "name": "stdout",
     "output_type": "stream",
     "text": [
      "list( range(5, 10) ) = [5, 6, 7, 8, 9]\n",
      "list( range(15, 20) ) = [15, 16, 17, 18, 19]\n",
      "list( range(0, 5) ) = [0, 1, 2, 3, 4]\n",
      "list( range(20, 25) ) = [20, 21, 22, 23, 24]\n",
      "\n",
      "[[5, 6, 7, 8, 9], [15, 16, 17, 18, 19], [0, 1, 2, 3, 4], [20, 21, 22, 23, 24]]\n",
      "\n",
      "[[ 5  6  7  8  9]\n",
      " [15 16 17 18 19]\n",
      " [ 0  1  2  3  4]\n",
      " [20 21 22 23 24]]\n"
     ]
    }
   ],
   "source": [
    "print(f\"list( range(5, 10) ) = { list( range(5, 10) ) }\" )\n",
    "print(f\"list( range(15, 20) ) = { list( range(15, 20) )}\")\n",
    "print(f\"list( range(0, 5) ) = {list( range(0, 5) )}\")\n",
    "print(f\"list( range(20, 25) ) = {list( range(20, 25) )}\")\n",
    "\n",
    "l = [ list( range(5, 10) ), list( range(15, 20) ), list( range(0, 5) ), list( range(20, 25) )  ]\n",
    "\n",
    "arr = np.array( l )\n",
    "\n",
    "print()\n",
    "#arr = np.array( [ [5, 6, 7, 8, 9], [15, 16, 17, 18, 19], [0, 1, 2, 3, 4],[20, 21, 22, 23, 24] ] )\n",
    "print(l)\n",
    "print()\n",
    "print(arr)"
   ]
  },
  {
   "cell_type": "code",
   "execution_count": 3,
   "metadata": {},
   "outputs": [
    {
     "name": "stdout",
     "output_type": "stream",
     "text": [
      "(4, 5)\n",
      "[[ 5  6  7  8  9]\n",
      " [15 16 17 18 19]\n",
      " [ 0  1  2  3  4]\n",
      " [20 21 22 23 24]]\n"
     ]
    }
   ],
   "source": [
    "print( arr.shape )\n",
    "print( arr )"
   ]
  },
  {
   "cell_type": "code",
   "execution_count": 4,
   "metadata": {},
   "outputs": [
    {
     "name": "stdout",
     "output_type": "stream",
     "text": [
      "arrslice when No Row and No Column :- \n",
      "[[ 5  6  7  8  9]\n",
      " [15 16 17 18 19]\n",
      " [ 0  1  2  3  4]\n",
      " [20 21 22 23 24]]\n",
      "\n"
     ]
    }
   ],
   "source": [
    "'''\n",
    "Slicing of 2 dimensional Arrays\n",
    "Syntax :- \n",
    "    Numpyarrayname[ row1 : row2, col1 : col2]   #row1 & col1 are inclusive whereas row2 & col2 are exclusive.\n",
    "'''\n",
    "#When we don't mention any row and column\n",
    "arrslice = arr[ : :  ]\n",
    "print(\"arrslice when No Row and No Column :- \")\n",
    "print(arrslice)\n",
    "print()"
   ]
  },
  {
   "cell_type": "code",
   "execution_count": 5,
   "metadata": {},
   "outputs": [
    {
     "name": "stdout",
     "output_type": "stream",
     "text": [
      "arrslice only row2 and no columns :- \n",
      "[[ 5  6  7  8  9]\n",
      " [15 16 17 18 19]]\n",
      "\n"
     ]
    }
   ],
   "source": [
    "#When we mention only row2 and no columns\n",
    "arrslice = arr[  : 2 , :  ]                         #If don't mention Anything in starting then, it will consider index from 0\n",
    "print(\"arrslice only row2 and no columns :- \")\n",
    "print(arrslice)\n",
    "print()"
   ]
  },
  {
   "cell_type": "code",
   "execution_count": 6,
   "metadata": {},
   "outputs": [
    {
     "name": "stdout",
     "output_type": "stream",
     "text": [
      "arrslice only row1 and no columns :- \n",
      "[[ 0  1  2  3  4]\n",
      " [20 21 22 23 24]]\n",
      "\n"
     ]
    }
   ],
   "source": [
    "#When we mention only row1 and no columns\n",
    "arrslice = arr[ 2 :  , :  ]             #If don't mention Anything in last then, it will consider index from row1 to last row\n",
    "print(\"arrslice only row1 and no columns :- \")\n",
    "print(arrslice)\n",
    "print()"
   ]
  },
  {
   "cell_type": "code",
   "execution_count": 7,
   "metadata": {},
   "outputs": [
    {
     "name": "stdout",
     "output_type": "stream",
     "text": [
      "arrslice only rows :- \n",
      "[[15 16 17 18 19]\n",
      " [ 0  1  2  3  4]]\n",
      "\n"
     ]
    }
   ],
   "source": [
    "#When we mention only rows and no columns\n",
    "arrslice = arr[ 1 : 3 , :  ]             #If mention rows and no columns\n",
    "print(\"arrslice only rows :- \")\n",
    "print(arrslice)\n",
    "print()"
   ]
  },
  {
   "cell_type": "code",
   "execution_count": 8,
   "metadata": {},
   "outputs": [
    {
     "name": "stdout",
     "output_type": "stream",
     "text": [
      "arrslice only col2 and no rows :- \n",
      "[[ 5  6]\n",
      " [15 16]\n",
      " [ 0  1]\n",
      " [20 21]]\n",
      "\n"
     ]
    }
   ],
   "source": [
    "#When we mention only col2 and no rows\n",
    "arrslice = arr[  :  , : 2 ]                         #If don't mention Anything in starting then, it will consider index from 0\n",
    "print(\"arrslice only col2 and no rows :- \")\n",
    "print(arrslice)\n",
    "print()"
   ]
  },
  {
   "cell_type": "code",
   "execution_count": 9,
   "metadata": {},
   "outputs": [
    {
     "name": "stdout",
     "output_type": "stream",
     "text": [
      "arrslice only col1 and no rows :- \n",
      "[[ 7  8  9]\n",
      " [17 18 19]\n",
      " [ 2  3  4]\n",
      " [22 23 24]]\n",
      "\n"
     ]
    }
   ],
   "source": [
    "#When we mention only col1 and no rows\n",
    "arrslice = arr[  :  , 2 :  ]            #If don't mention Anything in last then, it will consider index till last columns\n",
    "print(\"arrslice only col1 and no rows :- \")\n",
    "print(arrslice)\n",
    "print()"
   ]
  },
  {
   "cell_type": "code",
   "execution_count": 10,
   "metadata": {},
   "outputs": [
    {
     "name": "stdout",
     "output_type": "stream",
     "text": [
      "arrslice only columns and no rows :- \n",
      "[[ 7  8]\n",
      " [17 18]\n",
      " [ 2  3]\n",
      " [22 23]]\n",
      "\n"
     ]
    }
   ],
   "source": [
    "#When we mention only columns and no rows\n",
    "arrslice = arr[  :  , 2 : 4 ]             #If mention columns and no rows\n",
    "print(\"arrslice only columns and no rows :- \")\n",
    "print(arrslice)\n",
    "print()"
   ]
  },
  {
   "cell_type": "code",
   "execution_count": 12,
   "metadata": {},
   "outputs": [
    {
     "name": "stdout",
     "output_type": "stream",
     "text": [
      "[[ 5  6  7  8  9]\n",
      " [15 16 17 18 19]\n",
      " [ 0  1  2  3  4]\n",
      " [20 21 22 23 24]]\n",
      "arrslice both rows and columns :- \n",
      "[[17 18]\n",
      " [ 2  3]\n",
      " [22 23]]\n",
      "\n"
     ]
    }
   ],
   "source": [
    "#When we mention both rows and columns\n",
    "arrslice = arr[ 1 : 4 , 2 : 4 ]     #If mention both then, it will consider index (from row1 to row2) and (from col1 to col2 )\n",
    "print( arr )\n",
    "print(\"arrslice both rows and columns :- \")\n",
    "print(arrslice)\n",
    "print()"
   ]
  },
  {
   "cell_type": "code",
   "execution_count": 15,
   "metadata": {},
   "outputs": [
    {
     "name": "stdout",
     "output_type": "stream",
     "text": [
      "[ 1  2  3  4  5  6  7  8  9 10 11 12]\n"
     ]
    }
   ],
   "source": [
    "x = np.array( range( 1, 13) )\n",
    "print( x )"
   ]
  },
  {
   "cell_type": "code",
   "execution_count": 17,
   "metadata": {},
   "outputs": [
    {
     "name": "stdout",
     "output_type": "stream",
     "text": [
      "[ 1  2  3  4  5  6  7  8  9 10 11 12]\n",
      "\n",
      "[array([1, 2, 3]), array([4, 5]), array([6, 7, 8]), array([ 9, 10, 11, 12])]\n"
     ]
    },
    {
     "data": {
      "text/plain": [
       "'\\nIt will run slcing into parts means,\\n\\n[ 3, 5, 8 ] = :3 and 3:5 and 5:8 and 8:\\n'"
      ]
     },
     "execution_count": 17,
     "metadata": {},
     "output_type": "execute_result"
    }
   ],
   "source": [
    "print( x )\n",
    "print()\n",
    "print( np.split( x, [3, 5, 8] ) )\n",
    "\n",
    "'''\n",
    "It will run slcing into parts means,\n",
    "\n",
    "[ 3, 5, 8 ] = :3 and 3:5 and 5:8 and 8:\n",
    "'''"
   ]
  },
  {
   "cell_type": "code",
   "execution_count": 20,
   "metadata": {},
   "outputs": [
    {
     "name": "stdout",
     "output_type": "stream",
     "text": [
      "[ 0  1  2  3  4  5  6  7  8  9 10 11 12 13 14 15]\n",
      "[ 0  1  2  3  4  5  6  7  8  9 10 11 12 13 14 15]\n"
     ]
    }
   ],
   "source": [
    "print( np.array( range( 0, 16 ) ) )\n",
    "print( np.arange(16) )"
   ]
  },
  {
   "cell_type": "code",
   "execution_count": 25,
   "metadata": {},
   "outputs": [
    {
     "name": "stdout",
     "output_type": "stream",
     "text": [
      "[[ 0  1  2  3  4  5  6  7  8  9 10 11 12 13 14 15]]\n",
      "\n",
      "[[ 0  1  2  3  4  5  6  7]\n",
      " [ 8  9 10 11 12 13 14 15]]\n",
      "\n",
      "[[ 0  1]\n",
      " [ 2  3]\n",
      " [ 4  5]\n",
      " [ 6  7]\n",
      " [ 8  9]\n",
      " [10 11]\n",
      " [12 13]\n",
      " [14 15]]\n",
      "\n",
      "[[[ 0  1  2  3]\n",
      "  [ 4  5  6  7]]\n",
      "\n",
      " [[ 8  9 10 11]\n",
      "  [12 13 14 15]]]\n",
      "\n",
      "[[[[ 0  1]\n",
      "   [ 2  3]]\n",
      "\n",
      "  [[ 4  5]\n",
      "   [ 6  7]]]\n",
      "\n",
      "\n",
      " [[[ 8  9]\n",
      "   [10 11]]\n",
      "\n",
      "  [[12 13]\n",
      "   [14 15]]]]\n",
      "\n",
      "[[ 0  1  2  3  4  5  6  7  8  9 10 11 12 13 14 15]]\n",
      "\n"
     ]
    },
    {
     "data": {
      "text/plain": [
       "array([[ 0,  1,  2,  3],\n",
       "       [ 4,  5,  6,  7],\n",
       "       [ 8,  9, 10, 11],\n",
       "       [12, 13, 14, 15]])"
      ]
     },
     "execution_count": 25,
     "metadata": {},
     "output_type": "execute_result"
    }
   ],
   "source": [
    "print( np.arange( 16 ).reshape( ( 1, 16 ) ) )\n",
    "print()\n",
    "print( np.arange( 16 ).reshape( ( 2, 8 ) ) )\n",
    "print()\n",
    "print( np.arange( 16 ).reshape( ( 8, 2 ) ) )\n",
    "print()\n",
    "print( np.arange( 16 ).reshape( ( 2, 2, 4 ) ) )\n",
    "print()\n",
    "print( np.arange( 16 ).reshape( ( 2, 2, 2, 2 ) ) )\n",
    "print()\n",
    "print( np.arange( 16 ).reshape( ( 1, 16 ) ) )\n",
    "print()\n",
    "grid = np.arange(16).reshape( (4, 4) )\n",
    "grid"
   ]
  },
  {
   "cell_type": "code",
   "execution_count": 26,
   "metadata": {},
   "outputs": [
    {
     "data": {
      "text/plain": [
       "[array([[0, 1, 2, 3],\n",
       "        [4, 5, 6, 7]]), array([[ 8,  9, 10, 11],\n",
       "        [12, 13, 14, 15]])]"
      ]
     },
     "execution_count": 26,
     "metadata": {},
     "output_type": "execute_result"
    }
   ],
   "source": [
    "np.vsplit(grid, [2])"
   ]
  },
  {
   "cell_type": "code",
   "execution_count": 27,
   "metadata": {},
   "outputs": [
    {
     "name": "stdout",
     "output_type": "stream",
     "text": [
      "[[0 1 2 3]\n",
      " [4 5 6 7]]\n",
      "\n",
      "[[ 8  9 10 11]\n",
      " [12 13 14 15]]\n",
      "\n"
     ]
    }
   ],
   "source": [
    "for i in np.vsplit(grid, [2]):\n",
    "    print( i )\n",
    "    print()"
   ]
  },
  {
   "cell_type": "code",
   "execution_count": 28,
   "metadata": {},
   "outputs": [
    {
     "data": {
      "text/plain": [
       "[array([[0, 1, 2, 3],\n",
       "        [4, 5, 6, 7]]), array([[ 8,  9, 10, 11]]), array([[12, 13, 14, 15]])]"
      ]
     },
     "execution_count": 28,
     "metadata": {},
     "output_type": "execute_result"
    }
   ],
   "source": [
    "np.vsplit(grid, [2, 3])        #It is spliting grid array vertically by following split() rule also."
   ]
  },
  {
   "cell_type": "code",
   "execution_count": 29,
   "metadata": {},
   "outputs": [
    {
     "name": "stdout",
     "output_type": "stream",
     "text": [
      "[[0 1 2 3]\n",
      " [4 5 6 7]]\n",
      "\n",
      "[[ 8  9 10 11]]\n",
      "\n",
      "[[12 13 14 15]]\n",
      "\n"
     ]
    }
   ],
   "source": [
    "for i in np.vsplit(grid, [2, 3]):\n",
    "    print( i )\n",
    "    print()"
   ]
  },
  {
   "cell_type": "code",
   "execution_count": 30,
   "metadata": {},
   "outputs": [
    {
     "name": "stdout",
     "output_type": "stream",
     "text": [
      "[[ 0  1  2  3]\n",
      " [ 4  5  6  7]\n",
      " [ 8  9 10 11]\n",
      " [12 13 14 15]]\n",
      "\n"
     ]
    },
    {
     "data": {
      "text/plain": [
       "[array([[ 0,  1],\n",
       "        [ 4,  5],\n",
       "        [ 8,  9],\n",
       "        [12, 13]]), array([[ 2,  3],\n",
       "        [ 6,  7],\n",
       "        [10, 11],\n",
       "        [14, 15]])]"
      ]
     },
     "execution_count": 30,
     "metadata": {},
     "output_type": "execute_result"
    }
   ],
   "source": [
    "print( grid )\n",
    "print()\n",
    "np.hsplit(grid, [2])                # : 2 and 2 :"
   ]
  },
  {
   "cell_type": "code",
   "execution_count": 31,
   "metadata": {},
   "outputs": [
    {
     "data": {
      "text/plain": [
       "[array([[ 0,  1],\n",
       "        [ 4,  5],\n",
       "        [ 8,  9],\n",
       "        [12, 13]]), array([[ 2],\n",
       "        [ 6],\n",
       "        [10],\n",
       "        [14]]), array([[ 3],\n",
       "        [ 7],\n",
       "        [11],\n",
       "        [15]])]"
      ]
     },
     "execution_count": 31,
     "metadata": {},
     "output_type": "execute_result"
    }
   ],
   "source": [
    "np.hsplit(grid, [2, 3])                # : 2,  2 : 3 and 3 :"
   ]
  },
  {
   "cell_type": "code",
   "execution_count": null,
   "metadata": {},
   "outputs": [],
   "source": []
  }
 ],
 "metadata": {
  "kernelspec": {
   "display_name": "Python 3",
   "language": "python",
   "name": "python3"
  },
  "language_info": {
   "codemirror_mode": {
    "name": "ipython",
    "version": 3
   },
   "file_extension": ".py",
   "mimetype": "text/x-python",
   "name": "python",
   "nbconvert_exporter": "python",
   "pygments_lexer": "ipython3",
   "version": "3.7.6rc1"
  }
 },
 "nbformat": 4,
 "nbformat_minor": 2
}
