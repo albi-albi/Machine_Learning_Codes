{
 "cells": [
  {
   "cell_type": "code",
   "execution_count": 1,
   "metadata": {},
   "outputs": [
    {
     "data": {
      "text/plain": [
       "'Things going to be covered, \\n1) full   -> To fill Custom value of any data type.\\n2) ones   -> To fill 1. value\\n3) zeros   -> To fill 0. value\\n4) eye   -> Identity Matrix\\n5) random.random  -> To fill random values/ numbers from 0 to 1\\n'"
      ]
     },
     "execution_count": 1,
     "metadata": {},
     "output_type": "execute_result"
    }
   ],
   "source": [
    "'''Things going to be covered, \n",
    "1) full   -> To fill Custom value of any data type.\n",
    "2) ones   -> To fill 1. value\n",
    "3) zeros   -> To fill 0. value\n",
    "4) eye   -> Identity Matrix\n",
    "5) random.random  -> To fill random values/ numbers from 0 to 1\n",
    "'''"
   ]
  },
  {
   "cell_type": "code",
   "execution_count": 2,
   "metadata": {},
   "outputs": [],
   "source": [
    "import numpy as np"
   ]
  },
  {
   "cell_type": "code",
   "execution_count": 6,
   "metadata": {},
   "outputs": [
    {
     "name": "stdout",
     "output_type": "stream",
     "text": [
      "[[8 8 8 8]\n",
      " [8 8 8 8]\n",
      " [8 8 8 8]]\n"
     ]
    }
   ],
   "source": [
    "#fill - To fill the array with same elements( Ex :- fill the array elements as 7 everywhere in array )\n",
    "arr7 = np.full( (3, 4 ), 8 )\n",
    "print( arr7 )"
   ]
  },
  {
   "cell_type": "code",
   "execution_count": 7,
   "metadata": {},
   "outputs": [
    {
     "name": "stdout",
     "output_type": "stream",
     "text": [
      "[[7.6 7.6 7.6 7.6]\n",
      " [7.6 7.6 7.6 7.6]]\n",
      "\n",
      "[['Hi' 'Hi' 'Hi' 'Hi']\n",
      " ['Hi' 'Hi' 'Hi' 'Hi']]\n"
     ]
    }
   ],
   "source": [
    "#fill - To fill the array with same elements( Ex :- fill the array elements as 7.6 everywhere in array )\n",
    "arr7point6 = np.full( (2, 4), 7.6 )\n",
    "print( arr7point6 )\n",
    "print()\n",
    "arrone = np.full( (2, 4), 'Hi' )\n",
    "print(arrone)"
   ]
  },
  {
   "cell_type": "code",
   "execution_count": 8,
   "metadata": {},
   "outputs": [
    {
     "name": "stdout",
     "output_type": "stream",
     "text": [
      "[[0. 0. 0. 0.]\n",
      " [0. 0. 0. 0.]]\n",
      "\n",
      "[[0. 0. 0. 0.]\n",
      " [0. 0. 0. 0.]]\n"
     ]
    }
   ],
   "source": [
    "#zeros - To fill the array with 0( Ex :- fill the array elements as 0 everywhere in array )\n",
    "arr0 = np.zeros( (2, 4) )\n",
    "print( arr0 )\n",
    "print()\n",
    "arr0 = np.full( (2, 4), 0. )\n",
    "print( arr0 )"
   ]
  },
  {
   "cell_type": "code",
   "execution_count": 9,
   "metadata": {},
   "outputs": [
    {
     "name": "stdout",
     "output_type": "stream",
     "text": [
      "[[1. 1. 1. 1.]\n",
      " [1. 1. 1. 1.]]\n",
      "\n",
      "[[1. 1. 1. 1.]\n",
      " [1. 1. 1. 1.]]\n"
     ]
    }
   ],
   "source": [
    "#ones - To fill the array with 1( Ex :- fill the array elements as 1 everywhere in array )\n",
    "arr1 = np.ones( (2, 4) )\n",
    "print( arr1 )\n",
    "print()\n",
    "arr1 = np.full( (2, 4), 1. )\n",
    "print( arr1 )"
   ]
  },
  {
   "cell_type": "code",
   "execution_count": 11,
   "metadata": {},
   "outputs": [
    {
     "name": "stdout",
     "output_type": "stream",
     "text": [
      "[[1. 0. 0.]\n",
      " [0. 1. 0.]\n",
      " [0. 0. 1.]]\n"
     ]
    }
   ],
   "source": [
    "#eye - To fill the array with digonal as 1( Ex :- fill the array elements digonally as 1 and others as 0 in array )\n",
    "arreye = np.eye( 3, 3 )    #Only Single '()' bracket. No double bracket like fill, zeros and ones\n",
    "print( arreye )"
   ]
  },
  {
   "cell_type": "code",
   "execution_count": 13,
   "metadata": {},
   "outputs": [
    {
     "name": "stdout",
     "output_type": "stream",
     "text": [
      "[[0.06816092 0.8723568  0.74908136 0.94257873]\n",
      " [0.65228713 0.25419337 0.79321609 0.62530151]]\n",
      "\n",
      "[2 7 8 5]\n",
      "[16 19 15 12]\n"
     ]
    }
   ],
   "source": [
    "#random.random - To fill the array with random number form 0 to 1\n",
    "arrrandom = np.random.random( (2, 4) )\n",
    "print( arrrandom )\n",
    "print()\n",
    "#?np.random.randint\n",
    "n1 = np.random.randint( 2, 10, 4 )\n",
    "n2 = np.random.randint( 12, 20, 4 )\n",
    "#n3 = np.random.randint( 22, 30, 6 )\n",
    "print( n1 )\n",
    "print( n2 )\n",
    "#print( n3 )"
   ]
  },
  {
   "cell_type": "code",
   "execution_count": 14,
   "metadata": {},
   "outputs": [],
   "source": [
    "n1 = list(n1 )\n",
    "n2 = list( n2 )\n",
    "#n3 = list( n3 )"
   ]
  },
  {
   "cell_type": "code",
   "execution_count": 15,
   "metadata": {},
   "outputs": [
    {
     "name": "stdout",
     "output_type": "stream",
     "text": [
      "[[2, 7, 8, 5], [16, 19, 15, 12]]\n"
     ]
    }
   ],
   "source": [
    "l = []\n",
    "l.append( n1 )\n",
    "l.append( n2 )\n",
    "#l.append( n3 )\n",
    "print( l )"
   ]
  },
  {
   "cell_type": "code",
   "execution_count": 16,
   "metadata": {},
   "outputs": [
    {
     "name": "stdout",
     "output_type": "stream",
     "text": [
      "[[ 2  7  8  5]\n",
      " [16 19 15 12]]\n"
     ]
    }
   ],
   "source": [
    "l = np.array( l )\n",
    "print( l )"
   ]
  },
  {
   "cell_type": "code",
   "execution_count": null,
   "metadata": {},
   "outputs": [],
   "source": []
  }
 ],
 "metadata": {
  "kernelspec": {
   "display_name": "Python 3",
   "language": "python",
   "name": "python3"
  },
  "language_info": {
   "codemirror_mode": {
    "name": "ipython",
    "version": 3
   },
   "file_extension": ".py",
   "mimetype": "text/x-python",
   "name": "python",
   "nbconvert_exporter": "python",
   "pygments_lexer": "ipython3",
   "version": "3.7.4"
  }
 },
 "nbformat": 4,
 "nbformat_minor": 2
}
